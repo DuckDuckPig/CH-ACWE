{
 "cells": [
  {
   "cell_type": "code",
   "execution_count": 1,
   "id": "7b7fe58e",
   "metadata": {},
   "outputs": [],
   "source": [
    "# Import Libraires and tools\n",
    "import os\n",
    "import pandas as pd\n",
    "import numpy as np\n",
    "import glob\n",
    "import matplotlib.pyplot as plt\n",
    "\n",
    "# Root directory of the project\n",
    "ROOT_DIR = os.path.abspath(\"../../\")"
   ]
  },
  {
   "cell_type": "code",
   "execution_count": 2,
   "id": "58c3a76e",
   "metadata": {},
   "outputs": [],
   "source": [
    "# Key Varibles\n",
    "\n",
    "# Carrington Rotation\n",
    "cr = 'CR2099'\n",
    "\n",
    "# Dataset Names\n",
    "traceFolder = os.path.join(ROOT_DIR,'DatasetTools/DownloadLists/')\n",
    "\n",
    "# ACWE Parameters \n",
    "acweChoice = '193'\n",
    "\n",
    "# Data Summary\n",
    "datasetFile = 'Results/' + cr + '.GrowthAndIntensity.npz'"
   ]
  },
  {
   "cell_type": "code",
   "execution_count": 3,
   "id": "e5011a56",
   "metadata": {},
   "outputs": [],
   "source": [
    "# Open and find key data\n",
    "\n",
    "# Load Data Summary\n",
    "data = np.load(datasetFile, allow_pickle=True)\n",
    "lst = data.files\n",
    "\n",
    "seedArea     = data[lst[0]]\n",
    "seedIntnMean = data[lst[1]]\n",
    "seedIntnStd  = data[lst[2]]\n",
    "seedIntnMin  = data[lst[3]]\n",
    "seedIntnMax  = data[lst[4]]\n",
    "segArea      = data[lst[5]]\n",
    "segIntnMean  = data[lst[6]]\n",
    "segIntnStd   = data[lst[7]]\n",
    "segIntnMin   = data[lst[8]]\n",
    "segIntnMax   = data[lst[9]]\n",
    "bkgWeights   = data[lst[10]]\n",
    "IOO          = data[lst[11]]\n",
    "\n",
    "# Open Carrington Rotation Document\n",
    "CarringtonFile = traceFolder + cr + '.csv'\n",
    "data = pd.read_csv(CarringtonFile,header=0)\n",
    "keys = data.keys()\n",
    "\n",
    "# Find Image group we want \n",
    "acweChoice = np.where(keys == acweChoice)[0][0]"
   ]
  },
  {
   "cell_type": "code",
   "execution_count": 4,
   "id": "77101b8a",
   "metadata": {},
   "outputs": [
    {
     "name": "stdout",
     "output_type": "stream",
     "text": [
      "562\n"
     ]
    }
   ],
   "source": [
    "# File check\n",
    "print(len(seedArea))"
   ]
  },
  {
   "cell_type": "code",
   "execution_count": null,
   "id": "fdc8f266",
   "metadata": {},
   "outputs": [],
   "source": [
    "# Seed Area V Background Weight\n",
    "\n",
    "for i in range(len(seedArea)):\n",
    "    \n",
    "    # Get file\n",
    "    file = data[keys[acweChoice]][i]\n",
    "    \n",
    "    # Area and Mean\n",
    "    normalizedSegArea    = segArea[i]     / (seedArea[i].astype(float))\n",
    "    normalizedSegMean    = segIntnMean[i] / (seedIntnMean[i].astype(float))\n",
    "    normalizedSegMax     = segIntnMax[i]  / (seedIntnMean[i].astype(float))\n",
    "    normalizedSegMin     = segIntnMin[i]  / (seedIntnMean[i].astype(float))\n",
    "    normalizedSeedMin    = np.empty(len(normalizedSegMin))\n",
    "    normalizedSeedMin[:] = seedIntnMin[i] / (seedIntnMean[i].astype(float))\n",
    "    normalizedSeedMax    = np.empty(len(normalizedSeedMin))\n",
    "    normalizedSeedMax[:] = seedIntnMax[i] / (seedIntnMean[i].astype(float))\n",
    "    \n",
    "    \n",
    "    print(i)\n",
    "    # Plot Results\n",
    "    plt.figure(figsize=[20,15])\n",
    "    title = os.path.basename(file)\n",
    "    plt.suptitle(title)\n",
    "    plt.subplot(3,1,1)\n",
    "    plt.plot((1.0)/bkgWeights[i],normalizedSegArea)\n",
    "    plt.title('Area')\n",
    "    xlabel = '$\\lambda_i/\\lambda_o$'\n",
    "    plt.xlabel(xlabel)\n",
    "    plt.ylabel('Area normalized by area(Seed)')\n",
    "    plt.grid()\n",
    "    plt.subplot(3,1,2)\n",
    "    plt.plot((1.0)/bkgWeights[i],normalizedSegMean,label='Mean')\n",
    "    plt.plot((1.0)/bkgWeights[i],normalizedSegMax,label='Max')\n",
    "    plt.plot((1.0)/bkgWeights[i],normalizedSegMin,label='Min')\n",
    "    plt.plot((1.0)/bkgWeights[i],normalizedSeedMin,':',label='Seed Min Bound')\n",
    "    plt.plot((1.0)/bkgWeights[i],normalizedSeedMax,':',label='Seed Max Bound')\n",
    "    plt.legend()\n",
    "    plt.title('Intensity')\n",
    "    xlabel = '$\\lambda_i/\\lambda_o$'\n",
    "    plt.xlabel(xlabel)\n",
    "    plt.ylabel('Intensity, Normalized by mean(Seed)')\n",
    "    plt.grid()\n",
    "    plt.subplot(3,1,3)\n",
    "    plt.plot(1/bkgWeights[i],IOO[i])\n",
    "    plt.title('Percent of Inital Seed Retained')\n",
    "    xlabel = '$\\lambda_i/\\lambda_o$'\n",
    "    plt.xlabel(xlabel)\n",
    "    plt.ylabel('IOO')\n",
    "    plt.grid()\n",
    "    plt.ylim([-0.1,1.1])\n",
    "    plt.xlim([5,105])\n",
    "    plt.show()\n",
    "    print()\n",
    "    print('-------------------------------------------------------------------------------------------------------------------')"
   ]
  }
 ],
 "metadata": {
  "kernelspec": {
   "display_name": "Python 3 (ipykernel)",
   "language": "python",
   "name": "python3"
  },
  "language_info": {
   "codemirror_mode": {
    "name": "ipython",
    "version": 3
   },
   "file_extension": ".py",
   "mimetype": "text/x-python",
   "name": "python",
   "nbconvert_exporter": "python",
   "pygments_lexer": "ipython3",
   "version": "3.7.12"
  }
 },
 "nbformat": 4,
 "nbformat_minor": 5
}
