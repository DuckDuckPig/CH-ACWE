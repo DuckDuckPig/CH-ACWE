{
 "cells": [
  {
   "cell_type": "code",
   "execution_count": 1,
   "id": "broke-fifteen",
   "metadata": {},
   "outputs": [],
   "source": [
    "# Import Libaries and tools\n",
    "import os\n",
    "import glob\n",
    "import numpy as np\n",
    "import matplotlib.pyplot as plt\n",
    "\n",
    "plt.rcParams.update({'font.size': 24})\n",
    "\n",
    "ROOT_DIR = os.path.abspath(\"../../\")"
   ]
  },
  {
   "cell_type": "code",
   "execution_count": 2,
   "id": "spiritual-classification",
   "metadata": {},
   "outputs": [],
   "source": [
    "# Collection of results\n",
    "datasetFiles = sorted(glob.glob('Results/CR*.csv.TempFx.npz')) "
   ]
  },
  {
   "cell_type": "code",
   "execution_count": 3,
   "id": "creative-philadelphia",
   "metadata": {},
   "outputs": [
    {
     "name": "stdout",
     "output_type": "stream",
     "text": [
      "Results/CR2099.csv.TempFx.npz\n",
      "Results/CR2100.csv.TempFx.npz\n",
      "Results/CR2101.csv.TempFx.npz\n"
     ]
    }
   ],
   "source": [
    "# Open data summary for first file\n",
    "data = np.load(datasetFiles[0], allow_pickle=True)\n",
    "lst = data.files\n",
    "print(datasetFiles[0])\n",
    "\n",
    "# Get innital list of stats\n",
    "IOUpast    = data[lst[0]]\n",
    "IOUfuture  = data[lst[1]]\n",
    "SSIMpast   = data[lst[2]]\n",
    "SSIMfuture = data[lst[3]]\n",
    "GCEpast    = data[lst[4]]\n",
    "GCEfuture  = data[lst[5]]\n",
    "LCEpast    = data[lst[6]]\n",
    "LCEfuture  = data[lst[7]]\n",
    "\n",
    "# Expand with data for all other CR - if applicable\n",
    "for i in range(1,len(datasetFiles)-1):\n",
    "    \n",
    "    # Open data summary\n",
    "    data = np.load(datasetFiles[i], allow_pickle=True)\n",
    "    lst = data.files\n",
    "    print(datasetFiles[i])\n",
    "    \n",
    "    # append stats\n",
    "    IOUpast    = np.vstack([IOUpast,   data[lst[0]]])\n",
    "    IOUfuture  = np.vstack([IOUfuture, data[lst[1]]])\n",
    "    SSIMpast   = np.vstack([SSIMpast,  data[lst[2]]])\n",
    "    SSIMfuture = np.vstack([SSIMfuture,data[lst[3]]])\n",
    "    GCEpast    = np.vstack([GCEpast,   data[lst[4]]])\n",
    "    GCEfuture  = np.vstack([GCEfuture, data[lst[5]]])\n",
    "    LCEpast    = np.vstack([LCEpast,   data[lst[6]]])\n",
    "    LCEfuture  = np.vstack([LCEfuture, data[lst[7]]])"
   ]
  },
  {
   "cell_type": "code",
   "execution_count": 4,
   "id": "dying-friend",
   "metadata": {},
   "outputs": [
    {
     "name": "stdout",
     "output_type": "stream",
     "text": [
      "Number of Entries:  1763\n"
     ]
    }
   ],
   "source": [
    "print('Number of Entries: ',len(IOUpast))"
   ]
  },
  {
   "cell_type": "code",
   "execution_count": 5,
   "id": "coral-hughes",
   "metadata": {},
   "outputs": [],
   "source": [
    "# Calculate Stats\n",
    "meanIOUpast    = np.nanmean(IOUpast,axis=0)\n",
    "stdIOUpast     = np.nanstd(IOUpast,axis=0)\n",
    "meanIOUfuture  = np.nanmean(IOUfuture,axis=0)\n",
    "stdIOUfuture   = np.nanstd(IOUfuture,axis=0)\n",
    "meanSSIMpast   = np.nanmean(SSIMpast,axis=0)\n",
    "stdSSIMpast    = np.nanstd(SSIMpast,axis=0)\n",
    "meanSSIMfuture = np.nanmean(SSIMfuture,axis=0)\n",
    "stdSSIMfuture  = np.nanstd(SSIMfuture,axis=0)\n",
    "meanGCEpast    = np.nanmean(GCEpast,axis=0)\n",
    "stdGCEpast     = np.nanstd(GCEpast,axis=0)\n",
    "meanGCEfuture  = np.nanmean(GCEfuture,axis=0)\n",
    "stdGCEfuture   = np.nanstd(GCEfuture,axis=0)\n",
    "meanLCEpast    = np.nanmean(LCEpast,axis=0)\n",
    "stdLCEpast     = np.nanstd(LCEpast,axis=0)\n",
    "meanLCEfuture  = np.nanmean(LCEfuture,axis=0)\n",
    "stdLCEfuture   = np.nanstd(LCEfuture,axis=0)"
   ]
  },
  {
   "cell_type": "code",
   "execution_count": null,
   "id": "8addf9c2",
   "metadata": {},
   "outputs": [],
   "source": [
    "# Ensure Folder Exists\n",
    "saveDirectory = '/Figures/TempEffects/'\n",
    "saveDirectory = ROOT_DIR + saveDirectory\n",
    "\n",
    "if not os.path.exists(saveDirectory):\n",
    "    os.makedirs(saveDirectory)"
   ]
  },
  {
   "cell_type": "code",
   "execution_count": null,
   "id": "eacf0c3f",
   "metadata": {},
   "outputs": [],
   "source": [
    "# IOU\n",
    "plt.figure(figsize=[20,10])\n",
    "plt.rcParams.update({'font.size': 24})\n",
    "s = 'Intersection Over Union of Coronal Hole Evolution in Time for CRs 2099-2101'\n",
    "plt.title(s)\n",
    "\n",
    "# stack past and present for one graph\n",
    "hours   = np.asarray(range(len(meanIOUpast))) + 1\n",
    "hours   = np.hstack([np.flip(-hours),0,hours])\n",
    "meanIOU = np.hstack([np.flip(meanIOUpast),1,meanIOUfuture])\n",
    "stdIOU  = np.hstack([np.flip(stdIOUpast),0,stdIOUfuture])\n",
    "\n",
    "# Plot\n",
    "plt.plot(hours,meanIOU)\n",
    "plt.fill_between(hours,meanIOU-stdIOU,\n",
    "                 meanIOU+stdIOU,color=(.9,.9,.9))\n",
    "plt.xticks(np.array(range(-12,13,2)))\n",
    "plt.ylabel('Mean IOU')\n",
    "plt.xlabel('Time (hours)')\n",
    "plt.grid()\n",
    "\n",
    "# Title and Save\n",
    "title = 'IOU_earlyData.eps'\n",
    "title = saveDirectory + title\n",
    "plt.savefig(title)\n",
    "plt.show()"
   ]
  },
  {
   "cell_type": "code",
   "execution_count": null,
   "id": "27a33f71",
   "metadata": {},
   "outputs": [],
   "source": [
    "# SSIM\n",
    "plt.figure(figsize=[20,10])\n",
    "plt.rcParams.update({'font.size': 24})\n",
    "s = 'Structural Similarity of Coronal Hole Evolution in Time for CRs 2099-2101'\n",
    "plt.title(s)\n",
    "\n",
    "# stack past and present for one graph\n",
    "hours    = np.asarray(range(len(meanSSIMpast))) + 1\n",
    "hours    = np.hstack([np.flip(-hours),0,hours])\n",
    "meanSSIM = np.hstack([np.flip(meanSSIMpast),1,meanSSIMfuture])\n",
    "stdSSIM  = np.hstack([np.flip(stdSSIMpast),0,stdSSIMfuture])\n",
    "\n",
    "# Plot\n",
    "plt.plot(hours,meanSSIM)\n",
    "plt.fill_between(hours,meanSSIM-stdSSIM,\n",
    "                 meanSSIM+stdSSIM,color=(.9,.9,.9))\n",
    "plt.xticks(np.array(range(-12,13,2)))\n",
    "plt.ylabel('Mean SSIM')\n",
    "plt.xlabel('Time (hours)')\n",
    "plt.grid()\n",
    "\n",
    "# Title and Save\n",
    "title = 'SSIM_earlyData.eps'\n",
    "title = saveDirectory + title\n",
    "plt.savefig(title)\n",
    "plt.show()"
   ]
  },
  {
   "cell_type": "code",
   "execution_count": null,
   "id": "cd26ff7b",
   "metadata": {},
   "outputs": [],
   "source": [
    "# GCE\n",
    "plt.figure(figsize=[20,10])\n",
    "plt.rcParams.update({'font.size': 24})\n",
    "s = 'Global Consistency Error of Coronal Hole Evolution in Time for CRs 2099-2101'\n",
    "plt.title(s)\n",
    "\n",
    "# stack past and present for one graph\n",
    "hours   = np.asarray(range(len(meanGCEpast))) + 1\n",
    "hours   = np.hstack([np.flip(-hours),0,hours])\n",
    "meanGCE = np.hstack([np.flip(meanGCEpast),0,meanGCEfuture])\n",
    "stdGCE  = np.hstack([np.flip(stdGCEpast),0,stdGCEfuture])\n",
    "\n",
    "# Plot\n",
    "plt.plot(hours,meanGCE)\n",
    "plt.fill_between(hours,meanGCE-stdGCE,\n",
    "                 meanGCE+stdGCE,color=(.9,.9,.9))\n",
    "plt.xticks(np.array(range(-12,13,2)))\n",
    "plt.ylabel('Mean GCE')\n",
    "plt.xlabel('Time (hours)')\n",
    "plt.grid()\n",
    "\n",
    "# Title and Save\n",
    "title = 'GCE_earlyData.eps'\n",
    "title = saveDirectory + title\n",
    "plt.savefig(title)\n",
    "plt.show()"
   ]
  },
  {
   "cell_type": "code",
   "execution_count": null,
   "id": "d4344562",
   "metadata": {},
   "outputs": [],
   "source": [
    "# LCE\n",
    "plt.figure(figsize=[20,10])\n",
    "plt.rcParams.update({'font.size': 24})\n",
    "s = 'Local Consistency Error of Coronal Hole Evolution in Time for CRs 2099-2101'\n",
    "plt.title(s)\n",
    "\n",
    "# stack past and present for one graph\n",
    "hours   = np.asarray(range(len(meanLCEpast))) + 1\n",
    "hours   = np.hstack([np.flip(-hours),0,hours])\n",
    "meanLCE = np.hstack([np.flip(meanLCEpast),0,meanLCEfuture])\n",
    "stdLCE  = np.hstack([np.flip(stdLCEpast),0,stdLCEfuture])\n",
    "\n",
    "# Plot\n",
    "plt.plot(hours,meanLCE)\n",
    "plt.fill_between(hours,meanLCE-stdLCE,\n",
    "                 meanLCE+stdLCE,color=(.9,.9,.9))\n",
    "plt.xticks(np.array(range(-12,13,2)))\n",
    "plt.ylabel('Mean LCE')\n",
    "plt.xlabel('Time (hours)')\n",
    "plt.grid()\n",
    "\n",
    "# Title and Save\n",
    "title = 'LCE_earlyData.eps'\n",
    "title = saveDirectory + title\n",
    "plt.savefig(title)\n",
    "plt.show()"
   ]
  }
 ],
 "metadata": {
  "kernelspec": {
   "display_name": "Python 3 (ipykernel)",
   "language": "python",
   "name": "python3"
  },
  "language_info": {
   "codemirror_mode": {
    "name": "ipython",
    "version": 3
   },
   "file_extension": ".py",
   "mimetype": "text/x-python",
   "name": "python",
   "nbconvert_exporter": "python",
   "pygments_lexer": "ipython3",
   "version": "3.7.12"
  }
 },
 "nbformat": 4,
 "nbformat_minor": 5
}
