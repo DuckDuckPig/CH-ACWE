{
 "cells": [
  {
   "cell_type": "code",
   "execution_count": 1,
   "id": "exclusive-particle",
   "metadata": {},
   "outputs": [],
   "source": [
    "# Import Libaries and tools\n",
    "import os\n",
    "import numpy as np\n",
    "import matplotlib.pyplot as plt\n",
    "\n",
    "plt.rcParams.update({'font.size': 24})\n",
    "\n",
    "ROOT_DIR = os.path.abspath(\"../../\")"
   ]
  },
  {
   "cell_type": "code",
   "execution_count": 2,
   "id": "african-ocean",
   "metadata": {},
   "outputs": [],
   "source": [
    "# Key Varibles\n",
    "cr = 'CR2101'\n",
    "\n",
    "# Data Summary\n",
    "datasetFile = 'Results/' + cr + '.csv.TempFx.npz'\n",
    "\n",
    "# Step size\n",
    "step = 25 # This function will choose and display similarty for every nth entry in the CR"
   ]
  },
  {
   "cell_type": "code",
   "execution_count": 3,
   "id": "reported-dutch",
   "metadata": {},
   "outputs": [],
   "source": [
    "# Open data summary\n",
    "data = np.load(datasetFile, allow_pickle=True)\n",
    "lst = data.files\n",
    "\n",
    "IOUpast    = data[lst[0]]\n",
    "IOUfuture  = data[lst[1]]\n",
    "SSIMpast   = data[lst[2]]\n",
    "SSIMfuture = data[lst[3]]\n",
    "GCEpast    = data[lst[4]]\n",
    "GCEfuture  = data[lst[5]]\n",
    "LCEpast    = data[lst[6]]\n",
    "LCEfuture  = data[lst[7]]"
   ]
  },
  {
   "cell_type": "code",
   "execution_count": 4,
   "id": "hydraulic-motor",
   "metadata": {},
   "outputs": [
    {
     "name": "stdout",
     "output_type": "stream",
     "text": [
      "Number of Entries:  582\n"
     ]
    }
   ],
   "source": [
    "print('Number of Entries: ',len(IOUpast))"
   ]
  },
  {
   "cell_type": "code",
   "execution_count": 5,
   "id": "genuine-witch",
   "metadata": {},
   "outputs": [],
   "source": [
    "# Calculate Stats\n",
    "meanIOUpast    = np.nanmean(IOUpast,axis=0)\n",
    "stdIOUpast     = np.nanstd(IOUpast,axis=0)\n",
    "meanIOUfuture  = np.nanmean(IOUfuture,axis=0)\n",
    "stdIOUfuture   = np.nanstd(IOUfuture,axis=0)\n",
    "meanSSIMpast   = np.nanmean(SSIMpast,axis=0)\n",
    "stdSSIMpast    = np.nanstd(SSIMpast,axis=0)\n",
    "meanSSIMfuture = np.nanmean(SSIMfuture,axis=0)\n",
    "stdSSIMfuture  = np.nanstd(SSIMfuture,axis=0)\n",
    "meanGCEpast    = np.nanmean(GCEpast,axis=0)\n",
    "stdGCEpast     = np.nanstd(GCEpast,axis=0)\n",
    "meanGCEfuture  = np.nanmean(GCEfuture,axis=0)\n",
    "stdGCEfuture   = np.nanstd(GCEfuture,axis=0)\n",
    "meanLCEpast    = np.nanmean(LCEpast,axis=0)\n",
    "stdLCEpast     = np.nanstd(LCEpast,axis=0)\n",
    "meanLCEfuture  = np.nanmean(LCEfuture,axis=0)\n",
    "stdLCEfuture   = np.nanstd(LCEfuture,axis=0)"
   ]
  },
  {
   "cell_type": "code",
   "execution_count": null,
   "id": "a670d156",
   "metadata": {},
   "outputs": [],
   "source": [
    "# Ensure Folder Exists\n",
    "saveDirectory = '/Figures/TempEffects/'\n",
    "saveDirectory = ROOT_DIR + saveDirectory\n",
    "\n",
    "if not os.path.exists(saveDirectory):\n",
    "    os.makedirs(saveDirectory)"
   ]
  },
  {
   "cell_type": "code",
   "execution_count": null,
   "id": "bf1bbc99",
   "metadata": {},
   "outputs": [],
   "source": [
    "# IOU\n",
    "plt.figure(figsize=[20,10])\n",
    "plt.rcParams.update({'font.size': 24})\n",
    "s = 'Sample Intersection Over Union of Coronal Hole Evolution in Time for CR ' + cr[2:]\n",
    "plt.title(s)\n",
    "\n",
    "# timeframe\n",
    "hours = np.asarray(range(len(meanIOUfuture)))+ 1\n",
    "\n",
    "# Plot\n",
    "linetype = ['-',':','--','-.']\n",
    "for i in range(0,len(IOUfuture),step):\n",
    "    \n",
    "    plt.plot(hours,IOUfuture[i],linetype[int(i/(step*8))])\n",
    "\n",
    "plt.ylabel('IOU')\n",
    "plt.xlabel('Time (hours)')\n",
    "plt.grid()\n",
    "\n",
    "# Save Figure\n",
    "title = 'IOU_samples_' + cr + '.eps'\n",
    "title = saveDirectory + title\n",
    "plt.savefig(title)\n",
    "plt.show()"
   ]
  }
 ],
 "metadata": {
  "kernelspec": {
   "display_name": "Python 3 (ipykernel)",
   "language": "python",
   "name": "python3"
  },
  "language_info": {
   "codemirror_mode": {
    "name": "ipython",
    "version": 3
   },
   "file_extension": ".py",
   "mimetype": "text/x-python",
   "name": "python",
   "nbconvert_exporter": "python",
   "pygments_lexer": "ipython3",
   "version": "3.7.12"
  }
 },
 "nbformat": 4,
 "nbformat_minor": 5
}
